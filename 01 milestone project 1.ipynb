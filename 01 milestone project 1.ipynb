{
 "cells": [
  {
   "cell_type": "markdown",
   "metadata": {},
   "source": [
    "Input validation"
   ]
  },
  {
   "cell_type": "markdown",
   "metadata": {},
   "source": []
  },
  {
   "cell_type": "code",
   "execution_count": 1,
   "metadata": {},
   "outputs": [],
   "source": [
    "board = [' ',  ' ', ' ', ' ', ' ', ' ', ' ', ' ', ' ']\n",
    "\n",
    "player1 = { \"number\": 1, \"symbol\": \"O\"}\n",
    "player2 = { \"number\": 2, \"symbol\": \"X\"}\n",
    "\n",
    "# Different winning positions\n",
    "check_board = [\n",
    "    [0, 1, 2],\n",
    "    [3, 4, 5],\n",
    "    [6, 7, 8],\n",
    "    [0, 3, 6],\n",
    "    [1, 4, 7],\n",
    "    [2, 5, 8],\n",
    "    [0, 4, 8],\n",
    "    [2, 4, 6]\n",
    "]"
   ]
  },
  {
   "cell_type": "code",
   "execution_count": 2,
   "metadata": {},
   "outputs": [],
   "source": [
    "# Print the board\n",
    "def print_board(board):\n",
    "\n",
    "    print(f\"| {board[6]} | {board[7]} | {board[8]} |\")\n",
    "    print(f\"+---+---+---+\")\n",
    "    print(f\"| {board[3]} | {board[4]} | {board[5]} |\")\n",
    "    print(f\"+---+---+---+\")\n",
    "    print(f\"| {board[0]} | {board[1]} | {board[2]} |\")\n"
   ]
  },
  {
   "cell_type": "code",
   "execution_count": 3,
   "metadata": {},
   "outputs": [],
   "source": [
    "def players_input(player):\n",
    "    value = None\n",
    "    while True:\n",
    "        # check for the range\n",
    "        while value not in range(1,10):\n",
    "            value = int(input(f\"Player {player['number']}, please inout your position: \"))\n",
    "        if board[value - 1] != ' ':\n",
    "            print(f\"Position {value} has already filled. Please input another position!\")\n",
    "            value = None\n",
    "            continue\n",
    "        else:\n",
    "            # write the symbol\n",
    "            board[value - 1] = player['symbol']\n",
    "            break"
   ]
  },
  {
   "cell_type": "code",
   "execution_count": 4,
   "metadata": {},
   "outputs": [],
   "source": [
    "def check_winner():\n",
    "    # each row is the set of winning positions\n",
    "    for raw in check_board:\n",
    "        if board[raw[0]] == board[raw[1]] == board[raw[2]] != ' ': # check if them are equal and not empty\n",
    "            if player1['symbol'] == board[raw[0]]:\n",
    "                winner = player1\n",
    "            else:\n",
    "                winner = player2\n",
    "            print(f\"THE WINNER IS: {winner['number']}\")\n",
    "            return True\n",
    "\n",
    "        "
   ]
  },
  {
   "cell_type": "code",
   "execution_count": 5,
   "metadata": {},
   "outputs": [
    {
     "name": "stdout",
     "output_type": "stream",
     "text": [
      "| O |   |   |\n",
      "+---+---+---+\n",
      "| X | O | X |\n",
      "+---+---+---+\n",
      "| O | X | O |\n",
      "THE WINNER IS: 1\n",
      "GAME OVER\n"
     ]
    }
   ],
   "source": [
    "from IPython.display import clear_output\n",
    "\n",
    "for x in range(9):\n",
    "\n",
    "    if x%2 == 0:\n",
    "        players_input(player1)\n",
    "    else:\n",
    "        players_input(player2)\n",
    "\n",
    "    clear_output()\n",
    "    print_board(board)\n",
    "    if (check_winner()):\n",
    "        break\n",
    "\n",
    "print(\"GAME OVER\")\n",
    "    \n"
   ]
  }
 ],
 "metadata": {
  "interpreter": {
   "hash": "ac2eaa0ea0ebeafcc7822e65e46aa9d4f966f30b695406963e145ea4a91cd4fc"
  },
  "kernelspec": {
   "display_name": "Python 3.9.7 64-bit",
   "language": "python",
   "name": "python3"
  },
  "language_info": {
   "codemirror_mode": {
    "name": "ipython",
    "version": 3
   },
   "file_extension": ".py",
   "mimetype": "text/x-python",
   "name": "python",
   "nbconvert_exporter": "python",
   "pygments_lexer": "ipython3",
   "version": "3.9.7"
  },
  "orig_nbformat": 4
 },
 "nbformat": 4,
 "nbformat_minor": 2
}
