{
 "cells": [
  {
   "cell_type": "markdown",
   "metadata": {},
   "source": [
    "# War game implementation"
   ]
  },
  {
   "cell_type": "markdown",
   "metadata": {},
   "source": [
    "### Constants"
   ]
  },
  {
   "cell_type": "code",
   "execution_count": 2,
   "metadata": {},
   "outputs": [],
   "source": [
    "suits = ('Hearts', 'Diamonds', 'Spades', 'Clubs')\n",
    "ranks = ('Two', 'Three', 'Four', 'Five', 'Six', 'Seven', 'Eight', 'Nine', 'Ten', 'Jack', 'Queen', 'King', 'Ace')\n",
    "values = {'Two':2, 'Three':3, 'Four':4, 'Five':5, 'Six':6, 'Seven':7, 'Eight':8, \n",
    "            'Nine':9, 'Ten':10, 'Jack':11, 'Queen':12, 'King':13, 'Ace':14}"
   ]
  },
  {
   "cell_type": "markdown",
   "metadata": {},
   "source": [
    "### Main classes"
   ]
  },
  {
   "cell_type": "code",
   "execution_count": 7,
   "metadata": {},
   "outputs": [],
   "source": [
    "import random\n",
    "\n",
    "class Card:\n",
    "    def __init__(self, suit, rank):\n",
    "        self.suit = suit\n",
    "        self.rank = rank\n",
    "        self.value = values[rank]\n",
    "\n",
    "    def get_value(self):\n",
    "        return self.value\n",
    "    \n",
    "    def __str__(self):\n",
    "        return f'Card {self.rank} of {self.suit} val {self.value}'\n",
    "\n",
    "class Deck:\n",
    "    def __init__(self):\n",
    "        self.cards = []\n",
    "    \n",
    "    def add_card(self, card):\n",
    "        self.cards.append(card)\n",
    "\n",
    "    def get_card(self):\n",
    "        if len(self.cards) != 0:\n",
    "            return self.cards.pop(0)\n",
    "        else:\n",
    "            return None\n",
    "\n",
    "    def shuffle(self):\n",
    "        random.shuffle(self.cards)\n",
    "\n",
    "    def __len__(self):\n",
    "        return len(self.cards)\n",
    "\n",
    "\n",
    "class Player:\n",
    "    def __init__(self, name):\n",
    "        self.name = name\n",
    "        self.deck = Deck()\n",
    "\n",
    "\n",
    "class Game:\n",
    "    def __init__(self):\n",
    "        self.player_one= Player(\"Bob\")\n",
    "        self.player_two= Player(\"Alice\")\n",
    "        self.main_deck = Deck()\n",
    "\n",
    "        for suit in suits:\n",
    "            for rank in ranks:\n",
    "                self.main_deck.add_card(Card(suit, rank))\n",
    "\n",
    "        self.main_deck.shuffle()\n",
    "        self.dict_main_deck = {i : self.main_deck.get_card() for i in range (0, len(self.main_deck))}\n",
    "\n",
    "        # Put cards from the main deck\n",
    "        for key, one_card in self.dict_main_deck.items():\n",
    "            if key % 2 == 0:\n",
    "                self.player_one.deck.add_card(one_card)\n",
    "            else:\n",
    "                self.player_two.deck.add_card(one_card)\n",
    "\n",
    "\n",
    "    def run(self):\n",
    "\n",
    "        round = 0\n",
    "\n",
    "        extra_cards = Deck()\n",
    "        while True:\n",
    "            print(f\"Round {round}\")\n",
    "            round += 1\n",
    "\n",
    "            if round % 1000 == 0:\n",
    "                self.player_one.deck.shuffle()\n",
    "                self.player_two.deck.shuffle()\n",
    "\n",
    "\n",
    "            print(len(self.player_one.deck), end='  ---  ')\n",
    "            print(len(self.player_two.deck))\n",
    "\n",
    "            card_one = self.player_one.deck.get_card()\n",
    "            card_two = self.player_two.deck.get_card()\n",
    "\n",
    "            print(f\"Card of {self.player_one.name}: {card_one}\", end=\"   <------->   \")\n",
    "            print(f\"Card of {self.player_two.name}: {card_two}\")\n",
    "\n",
    "            \n",
    "            if card_one.get_value() > card_two.get_value():\n",
    "                self.player_one.deck.add_card(card_one)\n",
    "                self.player_one.deck.add_card(card_two)\n",
    "                print(f\"Add {2 + len(extra_cards)} cards to {self.player_one.name}\", end=' ')\n",
    "                for x in range(0, len(extra_cards)):\n",
    "                    self.player_one.deck.add_card(extra_cards.get_card())\n",
    "                print(f\"now deck of {self.player_one.name} has {len(self.player_one.deck)} cards\")\n",
    "            elif card_one.get_value() < card_two.get_value():\n",
    "                self.player_two.deck.add_card(card_one)\n",
    "                self.player_two.deck.add_card(card_two)\n",
    "                print(f\"Add {2 + len(extra_cards)} cards to {self.player_two.name}\", end=' ')\n",
    "                for x in range(0, len(extra_cards)):\n",
    "                    self.player_two.deck.add_card(extra_cards.get_card())\n",
    "                print(f\"now deck of {self.player_two.name} has {len(self.player_two.deck)} cards\")\n",
    "            else:\n",
    "                extra_cards.add_card(card_one)\n",
    "                extra_cards.add_card(card_two)\n",
    "                print(f\"Equal values of cards!\")\n",
    "\n",
    "            if len(self.player_one.deck) == 0:\n",
    "                print(f\"Player {self.player_two.name} win!!!\")\n",
    "                break\n",
    "            elif len(self.player_two.deck) == 0:\n",
    "                print(f\"Player {self.player_one.name} win!!!\")\n",
    "                break\n",
    "            else:\n",
    "                continue\n",
    "\n",
    "        print(\"Game OVER\")\n",
    "\n"
   ]
  },
  {
   "cell_type": "markdown",
   "metadata": {},
   "source": [
    "### Run game"
   ]
  },
  {
   "cell_type": "code",
   "execution_count": null,
   "metadata": {},
   "outputs": [],
   "source": [
    "game = Game()\n",
    "\n",
    "game.run()\n"
   ]
  }
 ],
 "metadata": {
  "interpreter": {
   "hash": "aee8b7b246df8f9039afb4144a1f6fd8d2ca17a180786b69acc140d282b71a49"
  },
  "kernelspec": {
   "display_name": "Python 3.9.7 64-bit",
   "language": "python",
   "name": "python3"
  },
  "language_info": {
   "codemirror_mode": {
    "name": "ipython",
    "version": 3
   },
   "file_extension": ".py",
   "mimetype": "text/x-python",
   "name": "python",
   "nbconvert_exporter": "python",
   "pygments_lexer": "ipython3",
   "version": "3.9.7"
  },
  "orig_nbformat": 4
 },
 "nbformat": 4,
 "nbformat_minor": 2
}
